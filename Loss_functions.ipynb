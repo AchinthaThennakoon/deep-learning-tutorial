{
  "nbformat": 4,
  "nbformat_minor": 0,
  "metadata": {
    "colab": {
      "provenance": [],
      "authorship_tag": "ABX9TyPa0MudWT0w3MaLCBKWqAJ3",
      "include_colab_link": true
    },
    "kernelspec": {
      "name": "python3",
      "display_name": "Python 3"
    },
    "language_info": {
      "name": "python"
    }
  },
  "cells": [
    {
      "cell_type": "markdown",
      "metadata": {
        "id": "view-in-github",
        "colab_type": "text"
      },
      "source": [
        "<a href=\"https://colab.research.google.com/github/AchinthaThennakoon/deep-learning-tutorial/blob/main/Loss_functions.ipynb\" target=\"_parent\"><img src=\"https://colab.research.google.com/assets/colab-badge.svg\" alt=\"Open In Colab\"/></a>"
      ]
    },
    {
      "cell_type": "code",
      "source": [
        "import numpy as np\n",
        "\n",
        "y_predicted = np.array([1,1,0,0,1])\n",
        "y_true = np.array([0.30,0.7,1,0,0.5])"
      ],
      "metadata": {
        "id": "5tHUrlHbyK-i"
      },
      "execution_count": 1,
      "outputs": []
    },
    {
      "cell_type": "markdown",
      "source": [
        "# Mean Absolute Error"
      ],
      "metadata": {
        "id": "5eGHSsyizsCS"
      }
    },
    {
      "cell_type": "code",
      "source": [
        "def mae(y_true,y_predicted):\n",
        "  total_error = 0\n",
        "  for yt, yp in zip(y_true,y_predicted):\n",
        "    total_error += abs(yt-yp)\n",
        "  return total_error/len(y_true)"
      ],
      "metadata": {
        "id": "eKxiJWxsydms"
      },
      "execution_count": 3,
      "outputs": []
    },
    {
      "cell_type": "code",
      "source": [
        "mae(y_true,y_predicted)"
      ],
      "metadata": {
        "colab": {
          "base_uri": "https://localhost:8080/"
        },
        "id": "nXhLQdwRzi_7",
        "outputId": "964185b6-5f62-4ad9-b288-54c79848e22c"
      },
      "execution_count": 4,
      "outputs": [
        {
          "output_type": "execute_result",
          "data": {
            "text/plain": [
              "0.5"
            ]
          },
          "metadata": {},
          "execution_count": 4
        }
      ]
    },
    {
      "cell_type": "code",
      "source": [
        "np.mean(np.abs(y_true-y_predicted))"
      ],
      "metadata": {
        "colab": {
          "base_uri": "https://localhost:8080/"
        },
        "id": "jj66GYX4zpnx",
        "outputId": "c13dc4aa-759d-49c9-c9ca-d416400f0385"
      },
      "execution_count": 6,
      "outputs": [
        {
          "output_type": "execute_result",
          "data": {
            "text/plain": [
              "0.5"
            ]
          },
          "metadata": {},
          "execution_count": 6
        }
      ]
    },
    {
      "cell_type": "markdown",
      "source": [
        "# Log Loss / Binary cross entrophy"
      ],
      "metadata": {
        "id": "U45EHAUJ0pN8"
      }
    },
    {
      "cell_type": "markdown",
      "source": [
        "replace values for 0 and 1 to tackle error in log(0) and log(1)"
      ],
      "metadata": {
        "id": "BamaecW-36TL"
      }
    },
    {
      "cell_type": "code",
      "source": [
        "epsilon = 1e-15"
      ],
      "metadata": {
        "id": "XY8cVoNK0gG0"
      },
      "execution_count": 7,
      "outputs": []
    },
    {
      "cell_type": "code",
      "source": [
        "y_predicted_new = [max(i,epsilon) for i in y_predicted]"
      ],
      "metadata": {
        "id": "TStOLPXB4Pjk"
      },
      "execution_count": 8,
      "outputs": []
    },
    {
      "cell_type": "code",
      "source": [
        "y_predicted_new"
      ],
      "metadata": {
        "colab": {
          "base_uri": "https://localhost:8080/"
        },
        "id": "jhw3q1645XRJ",
        "outputId": "f7a0c23e-008d-44fd-fb39-786e2afc8629"
      },
      "execution_count": 9,
      "outputs": [
        {
          "output_type": "execute_result",
          "data": {
            "text/plain": [
              "[1, 1, 1e-15, 1e-15, 1]"
            ]
          },
          "metadata": {},
          "execution_count": 9
        }
      ]
    },
    {
      "cell_type": "code",
      "source": [
        "y_predicted_new = [min(i,1-epsilon) for i in y_predicted]"
      ],
      "metadata": {
        "id": "tdvh-HHt5RrY"
      },
      "execution_count": 10,
      "outputs": []
    },
    {
      "cell_type": "code",
      "source": [
        "y_predicted_new"
      ],
      "metadata": {
        "colab": {
          "base_uri": "https://localhost:8080/"
        },
        "id": "3Cj3Px8l5fjV",
        "outputId": "c3d1e09f-6fcb-4fd8-ed2c-1ac808ff8ff8"
      },
      "execution_count": 11,
      "outputs": [
        {
          "output_type": "execute_result",
          "data": {
            "text/plain": [
              "[0.999999999999999, 0.999999999999999, 0, 0, 0.999999999999999]"
            ]
          },
          "metadata": {},
          "execution_count": 11
        }
      ]
    },
    {
      "cell_type": "code",
      "source": [
        "y_predicted_new = np.array(y_predicted_new)\n",
        "y_predicted_new"
      ],
      "metadata": {
        "colab": {
          "base_uri": "https://localhost:8080/"
        },
        "id": "VFhLubrP5f_o",
        "outputId": "55004b7c-8527-4eab-84b4-fe49f7876f0b"
      },
      "execution_count": 12,
      "outputs": [
        {
          "output_type": "execute_result",
          "data": {
            "text/plain": [
              "array([1., 1., 0., 0., 1.])"
            ]
          },
          "metadata": {},
          "execution_count": 12
        }
      ]
    },
    {
      "cell_type": "code",
      "source": [
        "x=-np.mean(y_true*np.log(y_predicted_new)+(1-y_true)*np.log(1-y_predicted_new))"
      ],
      "metadata": {
        "colab": {
          "base_uri": "https://localhost:8080/"
        },
        "id": "OIhljDEf6Aup",
        "outputId": "96457f21-c0a7-426e-d60f-ae9e7681d9e2"
      },
      "execution_count": 14,
      "outputs": [
        {
          "output_type": "stream",
          "name": "stderr",
          "text": [
            "<ipython-input-14-d3a2c04312bf>:1: RuntimeWarning: divide by zero encountered in log\n",
            "  x=-np.mean(y_true*np.log(y_predicted_new)+(1-y_true)*np.log(1-y_predicted_new))\n",
            "<ipython-input-14-d3a2c04312bf>:1: RuntimeWarning: invalid value encountered in multiply\n",
            "  x=-np.mean(y_true*np.log(y_predicted_new)+(1-y_true)*np.log(1-y_predicted_new))\n"
          ]
        }
      ]
    },
    {
      "cell_type": "code",
      "source": [
        "x"
      ],
      "metadata": {
        "colab": {
          "base_uri": "https://localhost:8080/"
        },
        "id": "owWXX8_F6paz",
        "outputId": "5b5f8022-8021-4982-ccce-05b1f938dc1c"
      },
      "execution_count": 15,
      "outputs": [
        {
          "output_type": "execute_result",
          "data": {
            "text/plain": [
              "nan"
            ]
          },
          "metadata": {},
          "execution_count": 15
        }
      ]
    }
  ]
}